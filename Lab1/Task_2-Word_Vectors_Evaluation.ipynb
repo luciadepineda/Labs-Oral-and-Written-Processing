{
 "cells": [
  {
   "cell_type": "markdown",
   "id": "f252de6d",
   "metadata": {
    "papermill": {
     "duration": 0.010904,
     "end_time": "2023-03-08T07:52:29.663005",
     "exception": false,
     "start_time": "2023-03-08T07:52:29.652101",
     "status": "completed"
    },
    "tags": []
   },
   "source": [
    "# TASK 2 - WORD VECTORS EVALUATION\n",
    "\n",
    "*by Lucía De Pineda & Aina Luis*"
   ]
  },
  {
   "cell_type": "markdown",
   "id": "af5d2e79",
   "metadata": {
    "papermill": {
     "duration": 0.009254,
     "end_time": "2023-03-08T07:52:29.682163",
     "exception": false,
     "start_time": "2023-03-08T07:52:29.672909",
     "status": "completed"
    },
    "tags": []
   },
   "source": [
    "### Imports"
   ]
  },
  {
   "cell_type": "code",
   "execution_count": 1,
   "id": "6f765413",
   "metadata": {
    "execution": {
     "iopub.execute_input": "2023-03-08T07:52:29.705822Z",
     "iopub.status.busy": "2023-03-08T07:52:29.705222Z",
     "iopub.status.idle": "2023-03-08T07:52:31.833727Z",
     "shell.execute_reply": "2023-03-08T07:52:31.832100Z"
    },
    "papermill": {
     "duration": 2.145273,
     "end_time": "2023-03-08T07:52:31.837028",
     "exception": false,
     "start_time": "2023-03-08T07:52:29.691755",
     "status": "completed"
    },
    "tags": []
   },
   "outputs": [],
   "source": [
    "import numpy as np\n",
    "import pickle\n",
    "import torch\n",
    "\n",
    "%matplotlib inline\n",
    "import matplotlib.pyplot as plt\n",
    "plt.rcParams['figure.figsize'] = [9.5, 6]"
   ]
  },
  {
   "cell_type": "code",
   "execution_count": 2,
   "id": "b7ec5268",
   "metadata": {
    "execution": {
     "iopub.execute_input": "2023-03-08T07:52:31.858807Z",
     "iopub.status.busy": "2023-03-08T07:52:31.858138Z",
     "iopub.status.idle": "2023-03-08T07:52:31.865298Z",
     "shell.execute_reply": "2023-03-08T07:52:31.864159Z"
    },
    "papermill": {
     "duration": 0.020991,
     "end_time": "2023-03-08T07:52:31.867943",
     "exception": false,
     "start_time": "2023-03-08T07:52:31.846952",
     "status": "completed"
    },
    "tags": []
   },
   "outputs": [],
   "source": [
    "from types import SimpleNamespace\n",
    "from collections import Counter\n",
    "import os\n",
    "import re\n",
    "import pathlib\n",
    "import subprocess\n",
    "import array\n",
    "import pickle\n",
    "import numpy as np\n",
    "import pandas as pd"
   ]
  },
  {
   "cell_type": "code",
   "execution_count": 3,
   "id": "430d1691",
   "metadata": {
    "execution": {
     "iopub.execute_input": "2023-03-08T07:52:31.889705Z",
     "iopub.status.busy": "2023-03-08T07:52:31.888628Z",
     "iopub.status.idle": "2023-03-08T07:52:33.826321Z",
     "shell.execute_reply": "2023-03-08T07:52:33.824875Z"
    },
    "papermill": {
     "duration": 1.951757,
     "end_time": "2023-03-08T07:52:33.829278",
     "exception": false,
     "start_time": "2023-03-08T07:52:31.877521",
     "status": "completed"
    },
    "tags": []
   },
   "outputs": [],
   "source": [
    "from sklearn.decomposition import PCA\n",
    "from nltk.cluster import KMeansClusterer\n",
    "import nltk"
   ]
  },
  {
   "cell_type": "markdown",
   "id": "fd675a41",
   "metadata": {
    "papermill": {
     "duration": 0.010507,
     "end_time": "2023-03-08T07:52:33.853348",
     "exception": false,
     "start_time": "2023-03-08T07:52:33.842841",
     "status": "completed"
    },
    "tags": []
   },
   "source": [
    "### Definition of the classes"
   ]
  },
  {
   "cell_type": "code",
   "execution_count": 4,
   "id": "0c82313f",
   "metadata": {
    "_kg_hide-input": true,
    "execution": {
     "iopub.execute_input": "2023-03-08T07:52:33.875753Z",
     "iopub.status.busy": "2023-03-08T07:52:33.874277Z",
     "iopub.status.idle": "2023-03-08T07:52:33.888499Z",
     "shell.execute_reply": "2023-03-08T07:52:33.886959Z"
    },
    "papermill": {
     "duration": 0.028702,
     "end_time": "2023-03-08T07:52:33.891731",
     "exception": false,
     "start_time": "2023-03-08T07:52:33.863029",
     "status": "completed"
    },
    "tags": []
   },
   "outputs": [],
   "source": [
    "class Vocabulary(object):\n",
    "    def __init__(self, pad_token='<pad>', unk_token='<unk>', eos_token='<eos>'):\n",
    "        self.token2idx = {}\n",
    "        self.idx2token = []\n",
    "        self.pad_token = pad_token\n",
    "        self.unk_token = unk_token\n",
    "        self.eos_token = eos_token\n",
    "        if pad_token is not None:\n",
    "            self.pad_index = self.add_token(pad_token)\n",
    "        if unk_token is not None:\n",
    "            self.unk_index = self.add_token(unk_token)\n",
    "        if eos_token is not None:\n",
    "            self.eos_index = self.add_token(eos_token)\n",
    "\n",
    "    def add_token(self, token):\n",
    "        if token not in self.token2idx:\n",
    "            self.idx2token.append(token)\n",
    "            self.token2idx[token] = len(self.idx2token) - 1\n",
    "        return self.token2idx[token]\n",
    "\n",
    "    def get_index(self, token):\n",
    "        if isinstance(token, str):\n",
    "            return self.token2idx.get(token, self.unk_index)\n",
    "        else:\n",
    "            return [self.token2idx.get(t, self.unk_index) for t in token]\n",
    "\n",
    "    def get_token(self, index):\n",
    "        return self.idx2token[index]\n",
    "\n",
    "    def __len__(self):\n",
    "        return len(self.idx2token)\n",
    "\n",
    "    def save(self, filename):\n",
    "        with open(filename, 'wb') as f:\n",
    "            pickle.dump(self.__dict__, f)\n",
    "\n",
    "    def load(self, filename):\n",
    "        with open(filename, 'rb') as f:\n",
    "            self.__dict__.update(pickle.load(f))"
   ]
  },
  {
   "cell_type": "code",
   "execution_count": 5,
   "id": "d70a36a9",
   "metadata": {
    "execution": {
     "iopub.execute_input": "2023-03-08T07:52:33.917193Z",
     "iopub.status.busy": "2023-03-08T07:52:33.916648Z",
     "iopub.status.idle": "2023-03-08T07:52:33.926547Z",
     "shell.execute_reply": "2023-03-08T07:52:33.924711Z"
    },
    "papermill": {
     "duration": 0.025879,
     "end_time": "2023-03-08T07:52:33.929913",
     "exception": false,
     "start_time": "2023-03-08T07:52:33.904034",
     "status": "completed"
    },
    "tags": []
   },
   "outputs": [],
   "source": [
    "class Punctuation:\n",
    "    html = re.compile(r'&apos;|&quot;')\n",
    "    punctuation = re.compile(r'[^\\w\\s·]|_')\n",
    "    spaces = re.compile(r'\\s+')\n",
    "    ela_geminada = re.compile(r'l · l')\n",
    "\n",
    "    def strip(self, s):\n",
    "        '''\n",
    "        Remove all punctuation characters.\n",
    "        '''\n",
    "        s = self.html.sub(' ', s)\n",
    "        s = self.punctuation.sub(' ', s)\n",
    "        s = self.spaces.sub(' ', s).strip()\n",
    "        s = self.ela_geminada.sub('l·l', s)\n",
    "        return s"
   ]
  },
  {
   "cell_type": "code",
   "execution_count": 6,
   "id": "790df0a0",
   "metadata": {
    "execution": {
     "iopub.execute_input": "2023-03-08T07:52:33.952564Z",
     "iopub.status.busy": "2023-03-08T07:52:33.952064Z",
     "iopub.status.idle": "2023-03-08T07:52:33.960100Z",
     "shell.execute_reply": "2023-03-08T07:52:33.958501Z"
    },
    "papermill": {
     "duration": 0.023067,
     "end_time": "2023-03-08T07:52:33.962994",
     "exception": false,
     "start_time": "2023-03-08T07:52:33.939927",
     "status": "completed"
    },
    "tags": []
   },
   "outputs": [],
   "source": [
    "def remove_punctuation(input_path, output_path):\n",
    "    punc = Punctuation()\n",
    "    with open(input_path, 'r', encoding='utf-8') as inpf, open(output_path, 'w', encoding='utf-8') as outf:\n",
    "        for line in inpf:\n",
    "            line = punc.strip(line)\n",
    "            print(line, file=outf)"
   ]
  },
  {
   "cell_type": "code",
   "execution_count": 7,
   "id": "ce5dc374",
   "metadata": {
    "_kg_hide-input": false,
    "execution": {
     "iopub.execute_input": "2023-03-08T07:52:33.985562Z",
     "iopub.status.busy": "2023-03-08T07:52:33.984421Z",
     "iopub.status.idle": "2023-03-08T07:52:34.003493Z",
     "shell.execute_reply": "2023-03-08T07:52:34.002167Z"
    },
    "papermill": {
     "duration": 0.033545,
     "end_time": "2023-03-08T07:52:34.006700",
     "exception": false,
     "start_time": "2023-03-08T07:52:33.973155",
     "status": "completed"
    },
    "tags": []
   },
   "outputs": [],
   "source": [
    "class WordVectors:\n",
    "    def __init__(self, vectors, vocabulary): \n",
    "        self.vectors = vectors\n",
    "        self.voc_size = len(vocabulary)\n",
    "        self.vocabulary = vocabulary\n",
    "    \n",
    "    def cosine_similarity(self, vec1, vec2):\n",
    "        sum_sim = 0\n",
    "        norm_vec1 = 0\n",
    "        norm_vec2 = 0\n",
    "        if len(vec1) != len(vec2):\n",
    "            print('ERROR: Wrong representation')\n",
    "            return\n",
    "        else:        \n",
    "            for pos in range(len(vec1)):\n",
    "                sum_sim += vec1[pos]*vec2[pos]\n",
    "                norm_vec1 += vec1[pos]*vec1[pos]\n",
    "                norm_vec2 += vec2[pos]*vec2[pos]\n",
    "            if norm_vec1 != 0 and norm_vec2 != 0:\n",
    "                return sum_sim/(np.sqrt(norm_vec1)*np.sqrt(norm_vec2))\n",
    "            else: \n",
    "                return 0\n",
    "    \n",
    "    def operation(self, vec1, vec2, op):\n",
    "        vec_diff = []\n",
    "        if len(vec1) != len(vec2):\n",
    "            print('ERROR: Wrong representation')\n",
    "            return\n",
    "        else:  \n",
    "            for pos in range(len(vec1)):\n",
    "                if op == 'sum':\n",
    "                    vec_diff.append(vec1[pos]+vec2[pos])\n",
    "                elif op == 'sub':\n",
    "                    vec_diff.append(vec1[pos]-vec2[pos])\n",
    "            return vec_diff\n",
    "        \n",
    "    def most_similar(self, word, topn=10):\n",
    "        word_id = self.vocabulary.get_index(word)\n",
    "        sim_word = []\n",
    "        for w2_id in range (self.voc_size):\n",
    "            if w2_id != word_id:\n",
    "                sim_word.append((self.vocabulary.get_token(w2_id), self.cosine_similarity(self.vectors[word_id], self.vectors[w2_id])))\n",
    "        sim_word.sort(key = lambda x: -x[1])\n",
    "        return sim_word[0:topn]\n",
    "    \n",
    "    def analogy(self, x1, x2, y1, topn=5, keep_all=False):\n",
    "        # If keep_all is False we remove the input words (x1, x2, y1) from the returned closed words\n",
    "        x1_id = self.vocabulary.get_index(x1)\n",
    "        x2_id = self.vocabulary.get_index(x2)\n",
    "        y1_id = self.vocabulary.get_index(y1)\n",
    "        vec_x1 = self.vectors[x1_id]\n",
    "        vec_x2 = self.vectors[x2_id]\n",
    "        vec_y1 = self.vectors[y1_id]\n",
    "        dif_vec = self.operation(vec_x2, vec_x1, 'sub')\n",
    "        vec_ref = self.operation(dif_vec, vec_y1, 'sum')\n",
    "        analogy_word = []\n",
    "        for y2_id in range (self.voc_size):\n",
    "            if keep_all or (y2_id!=x1_id and y2_id!=x2_id and y2_id!=y1_id):\n",
    "                vec_y2 = self.vectors[y2_id]\n",
    "                analogy_word.append((self.vocabulary.get_token(y2_id), self.cosine_similarity(vec_ref, vec_y2)))\n",
    "        analogy_word.sort(key = lambda x: -x[1])\n",
    "        return analogy_word[0:topn]"
   ]
  },
  {
   "cell_type": "markdown",
   "id": "1a1ad04f",
   "metadata": {
    "papermill": {
     "duration": 0.009391,
     "end_time": "2023-03-08T07:52:34.025802",
     "exception": false,
     "start_time": "2023-03-08T07:52:34.016411",
     "status": "completed"
    },
    "tags": []
   },
   "source": [
    "### Uploading of the vocabulary and generation of the models "
   ]
  },
  {
   "cell_type": "markdown",
   "id": "bb4e9711",
   "metadata": {
    "papermill": {
     "duration": 0.010676,
     "end_time": "2023-03-08T07:52:34.046648",
     "exception": false,
     "start_time": "2023-03-08T07:52:34.035972",
     "status": "completed"
    },
    "tags": []
   },
   "source": [
    "We will use the vocabulary computed by the Text Preprocessing notebook (text-preprocessing), and the word vectors computed by the CBOW Model C notebook (cbow-vectors)."
   ]
  },
  {
   "cell_type": "code",
   "execution_count": 8,
   "id": "2067ba66",
   "metadata": {
    "execution": {
     "iopub.execute_input": "2023-03-08T07:52:34.070161Z",
     "iopub.status.busy": "2023-03-08T07:52:34.069694Z",
     "iopub.status.idle": "2023-03-08T07:52:34.076319Z",
     "shell.execute_reply": "2023-03-08T07:52:34.074623Z"
    },
    "papermill": {
     "duration": 0.021229,
     "end_time": "2023-03-08T07:52:34.079174",
     "exception": false,
     "start_time": "2023-03-08T07:52:34.057945",
     "status": "completed"
    },
    "tags": []
   },
   "outputs": [],
   "source": [
    "DATASET_VERSION = 'ca-100'\n",
    "CBOW_VOCABULARY_ROOT = f'../input/text-preprocessing/data/{DATASET_VERSION}'\n",
    "CBOW_VECTORS_ROOT = f'../input/apartado-c/data/{DATASET_VERSION}'"
   ]
  },
  {
   "cell_type": "code",
   "execution_count": 9,
   "id": "75a9f827",
   "metadata": {
    "execution": {
     "iopub.execute_input": "2023-03-08T07:52:34.100565Z",
     "iopub.status.busy": "2023-03-08T07:52:34.100101Z",
     "iopub.status.idle": "2023-03-08T07:52:35.494009Z",
     "shell.execute_reply": "2023-03-08T07:52:35.492717Z"
    },
    "papermill": {
     "duration": 1.407923,
     "end_time": "2023-03-08T07:52:35.496928",
     "exception": false,
     "start_time": "2023-03-08T07:52:34.089005",
     "status": "completed"
    },
    "tags": []
   },
   "outputs": [
    {
     "name": "stdout",
     "output_type": "stream",
     "text": [
      "Most frequent Catalan words\n",
      "('de', 'la', 'i', 'a', 'el', 'd', 'l', 'que', 'en', 'va')\n",
      "(5029788, 2771563, 2495802, 2130330, 1704858, 1362665, 1322822, 1293716, 1266356, 1191615)\n"
     ]
    }
   ],
   "source": [
    "dict = f'{CBOW_VOCABULARY_ROOT}/ca.wiki.train.tokens.nopunct.dic'\n",
    "counter = pickle.load(open(dict, 'rb'))\n",
    "words, values = zip(*counter.most_common(5000))\n",
    "print('Most frequent Catalan words')\n",
    "print(words[:10])\n",
    "print(values[:10])"
   ]
  },
  {
   "cell_type": "code",
   "execution_count": 10,
   "id": "198a7c74",
   "metadata": {
    "execution": {
     "iopub.execute_input": "2023-03-08T07:52:35.518989Z",
     "iopub.status.busy": "2023-03-08T07:52:35.517808Z",
     "iopub.status.idle": "2023-03-08T07:52:35.528387Z",
     "shell.execute_reply": "2023-03-08T07:52:35.527141Z"
    },
    "papermill": {
     "duration": 0.024752,
     "end_time": "2023-03-08T07:52:35.531374",
     "exception": false,
     "start_time": "2023-03-08T07:52:35.506622",
     "status": "completed"
    },
    "tags": []
   },
   "outputs": [
    {
     "name": "stdout",
     "output_type": "stream",
     "text": [
      "Word entropy:  6.22, Perplexity:   505\n",
      "Probability of the most frequent word: 0.076\n"
     ]
    }
   ],
   "source": [
    "from scipy.stats import entropy\n",
    "h = entropy(values)\n",
    "print(f'Word entropy: {h:5.2f}, Perplexity: {np.exp(h):5.0f}')\n",
    "print(f'Probability of the most frequent word: {values[0]/sum(values):2.3f}')"
   ]
  },
  {
   "cell_type": "markdown",
   "id": "07f3f188",
   "metadata": {
    "papermill": {
     "duration": 0.009579,
     "end_time": "2023-03-08T07:52:35.551486",
     "exception": false,
     "start_time": "2023-03-08T07:52:35.541907",
     "status": "completed"
    },
    "tags": []
   },
   "source": [
    "**Zipf's law of words**. Zipf's law was originally formulated in terms of quantitative linguistics, stating that given some corpus of natural language utterances, the frequency of any word is inversely proportional to its rank in the frequency table."
   ]
  },
  {
   "cell_type": "code",
   "execution_count": 11,
   "id": "3a2e72ce",
   "metadata": {
    "execution": {
     "iopub.execute_input": "2023-03-08T07:52:35.573695Z",
     "iopub.status.busy": "2023-03-08T07:52:35.572818Z",
     "iopub.status.idle": "2023-03-08T07:52:35.838687Z",
     "shell.execute_reply": "2023-03-08T07:52:35.837647Z"
    },
    "papermill": {
     "duration": 0.279761,
     "end_time": "2023-03-08T07:52:35.841065",
     "exception": false,
     "start_time": "2023-03-08T07:52:35.561304",
     "status": "completed"
    },
    "tags": []
   },
   "outputs": [
    {
     "data": {
      "image/png": "[encoded data removed]",
      "text/plain": [
       "<Figure size 684x432 with 1 Axes>"
      ]
     },
     "metadata": {
      "needs_background": "light"
     },
     "output_type": "display_data"
    }
   ],
   "source": [
    "_ = plt.plot(values[:50], 'g', 2*values[0]/np.arange(2,52), 'r')"
   ]
  },
  {
   "cell_type": "code",
   "execution_count": 12,
   "id": "e9012115",
   "metadata": {
    "execution": {
     "iopub.execute_input": "2023-03-08T07:52:35.864783Z",
     "iopub.status.busy": "2023-03-08T07:52:35.864010Z",
     "iopub.status.idle": "2023-03-08T07:52:36.773857Z",
     "shell.execute_reply": "2023-03-08T07:52:36.772463Z"
    },
    "papermill": {
     "duration": 0.925111,
     "end_time": "2023-03-08T07:52:36.776788",
     "exception": false,
     "start_time": "2023-03-08T07:52:35.851677",
     "status": "completed"
    },
    "tags": []
   },
   "outputs": [
    {
     "data": {
      "image/png": "[encoded data removed]",
      "text/plain": [
       "<Figure size 684x432 with 1 Axes>"
      ]
     },
     "metadata": {
      "needs_background": "light"
     },
     "output_type": "display_data"
    }
   ],
   "source": [
    "_ = plt.loglog(values)\n",
    "plt.show()"
   ]
  },
  {
   "cell_type": "markdown",
   "id": "f5a2e1eb",
   "metadata": {
    "papermill": {
     "duration": 0.010365,
     "end_time": "2023-03-08T07:52:36.798550",
     "exception": false,
     "start_time": "2023-03-08T07:52:36.788185",
     "status": "completed"
    },
    "tags": []
   },
   "source": [
    "**Benford's law**, also called the Newcomb–Benford law, the law of anomalous numbers, or the first-digit law, is an observation about the frequency distribution of leading digits in many real-life sets of numerical data."
   ]
  },
  {
   "cell_type": "code",
   "execution_count": 13,
   "id": "f8718283",
   "metadata": {
    "execution": {
     "iopub.execute_input": "2023-03-08T07:52:36.822346Z",
     "iopub.status.busy": "2023-03-08T07:52:36.821920Z",
     "iopub.status.idle": "2023-03-08T07:52:37.248632Z",
     "shell.execute_reply": "2023-03-08T07:52:37.247299Z"
    },
    "papermill": {
     "duration": 0.441856,
     "end_time": "2023-03-08T07:52:37.251632",
     "exception": false,
     "start_time": "2023-03-08T07:52:36.809776",
     "status": "completed"
    },
    "tags": []
   },
   "outputs": [
    {
     "name": "stdout",
     "output_type": "stream",
     "text": [
      "Counter({1: 1705, 2: 1332, 3: 673, 4: 450, 5: 283, 6: 192, 7: 157, 8: 126, 9: 82})\n"
     ]
    },
    {
     "data": {
      "image/png": "[encoded data removed]",
      "text/plain": [
       "<Figure size 684x432 with 1 Axes>"
      ]
     },
     "metadata": {
      "needs_background": "light"
     },
     "output_type": "display_data"
    }
   ],
   "source": [
    "from collections import Counter\n",
    "benford = Counter(int(str(item[1])[0]) for item in counter.most_common(5000))\n",
    "print(benford)\n",
    "percentage = np.array(list(benford.values()), dtype=float)\n",
    "percentage /= percentage.sum()\n",
    "_ = plt.bar(list(benford.keys()), percentage*100)"
   ]
  },
  {
   "cell_type": "code",
   "execution_count": 14,
   "id": "4f5c7e21",
   "metadata": {
    "execution": {
     "iopub.execute_input": "2023-03-08T07:52:37.276668Z",
     "iopub.status.busy": "2023-03-08T07:52:37.275676Z",
     "iopub.status.idle": "2023-03-08T07:52:38.392290Z",
     "shell.execute_reply": "2023-03-08T07:52:38.391003Z"
    },
    "papermill": {
     "duration": 1.132255,
     "end_time": "2023-03-08T07:52:38.395456",
     "exception": false,
     "start_time": "2023-03-08T07:52:37.263201",
     "status": "completed"
    },
    "tags": []
   },
   "outputs": [],
   "source": [
    "modelname = f'{CBOW_VECTORS_ROOT}/{DATASET_VERSION}.pt'\n",
    "state_dict = torch.load(modelname, map_location=torch.device('cpu'))"
   ]
  },
  {
   "cell_type": "code",
   "execution_count": 15,
   "id": "a61fcd24",
   "metadata": {
    "execution": {
     "iopub.execute_input": "2023-03-08T07:52:38.420069Z",
     "iopub.status.busy": "2023-03-08T07:52:38.419587Z",
     "iopub.status.idle": "2023-03-08T07:52:38.425627Z",
     "shell.execute_reply": "2023-03-08T07:52:38.424104Z"
    },
    "papermill": {
     "duration": 0.021607,
     "end_time": "2023-03-08T07:52:38.428208",
     "exception": false,
     "start_time": "2023-03-08T07:52:38.406601",
     "status": "completed"
    },
    "tags": []
   },
   "outputs": [],
   "source": [
    "input_word_vectors = state_dict['emb.weight'].numpy()\n",
    "output_word_vectors = state_dict['lin.weight'].numpy()"
   ]
  },
  {
   "cell_type": "code",
   "execution_count": 16,
   "id": "f9fd12a7",
   "metadata": {
    "execution": {
     "iopub.execute_input": "2023-03-08T07:52:38.452168Z",
     "iopub.status.busy": "2023-03-08T07:52:38.451732Z",
     "iopub.status.idle": "2023-03-08T07:52:38.529989Z",
     "shell.execute_reply": "2023-03-08T07:52:38.528481Z"
    },
    "papermill": {
     "duration": 0.093599,
     "end_time": "2023-03-08T07:52:38.532800",
     "exception": false,
     "start_time": "2023-03-08T07:52:38.439201",
     "status": "completed"
    },
    "tags": []
   },
   "outputs": [],
   "source": [
    "token_vocab = Vocabulary()\n",
    "token_vocab.load(f'{CBOW_VOCABULARY_ROOT}/ca.wiki.vocab')"
   ]
  },
  {
   "cell_type": "code",
   "execution_count": 17,
   "id": "792dd643",
   "metadata": {
    "execution": {
     "iopub.execute_input": "2023-03-08T07:52:38.556925Z",
     "iopub.status.busy": "2023-03-08T07:52:38.556484Z",
     "iopub.status.idle": "2023-03-08T07:52:38.562542Z",
     "shell.execute_reply": "2023-03-08T07:52:38.561118Z"
    },
    "papermill": {
     "duration": 0.021171,
     "end_time": "2023-03-08T07:52:38.565004",
     "exception": false,
     "start_time": "2023-03-08T07:52:38.543833",
     "status": "completed"
    },
    "tags": []
   },
   "outputs": [],
   "source": [
    "model1 = WordVectors(input_word_vectors, token_vocab)\n",
    "model2 = WordVectors(output_word_vectors, token_vocab)"
   ]
  },
  {
   "cell_type": "markdown",
   "id": "9d54ed91",
   "metadata": {
    "papermill": {
     "duration": 0.010558,
     "end_time": "2023-03-08T07:52:38.586604",
     "exception": false,
     "start_time": "2023-03-08T07:52:38.576046",
     "status": "completed"
    },
    "tags": []
   },
   "source": [
    "### Looking for most similar words"
   ]
  },
  {
   "cell_type": "code",
   "execution_count": 18,
   "id": "4b7bd086",
   "metadata": {
    "execution": {
     "iopub.execute_input": "2023-03-08T07:52:38.609824Z",
     "iopub.status.busy": "2023-03-08T07:52:38.609347Z",
     "iopub.status.idle": "2023-03-08T07:52:51.033609Z",
     "shell.execute_reply": "2023-03-08T07:52:51.032372Z"
    },
    "papermill": {
     "duration": 12.439485,
     "end_time": "2023-03-08T07:52:51.036948",
     "exception": false,
     "start_time": "2023-03-08T07:52:38.597463",
     "status": "completed"
    },
    "tags": []
   },
   "outputs": [
    {
     "data": {
      "text/plain": [
       "[('valencià', 0.8966472396059136),\n",
       " ('basc', 0.8486368720995038),\n",
       " ('gallec', 0.7824255608434053),\n",
       " ('mallorquí', 0.7668336708113344),\n",
       " ('castellà', 0.7572442597077931),\n",
       " ('navarrès', 0.7497890396655548),\n",
       " ('neerlandès', 0.74571373689574),\n",
       " ('romanès', 0.7264740421184357),\n",
       " ('portuguès', 0.7232562143235629),\n",
       " ('francès', 0.716595942189798)]"
      ]
     },
     "execution_count": 18,
     "metadata": {},
     "output_type": "execute_result"
    }
   ],
   "source": [
    "model1.most_similar('català')"
   ]
  },
  {
   "cell_type": "code",
   "execution_count": 19,
   "id": "5071df39",
   "metadata": {
    "execution": {
     "iopub.execute_input": "2023-03-08T07:52:51.060966Z",
     "iopub.status.busy": "2023-03-08T07:52:51.060553Z",
     "iopub.status.idle": "2023-03-08T07:53:03.356626Z",
     "shell.execute_reply": "2023-03-08T07:53:03.354949Z"
    },
    "papermill": {
     "duration": 12.31133,
     "end_time": "2023-03-08T07:53:03.359412",
     "exception": false,
     "start_time": "2023-03-08T07:52:51.048082",
     "status": "completed"
    },
    "tags": []
   },
   "outputs": [
    {
     "data": {
      "text/plain": [
       "[('finca', 0.7651913984842528),\n",
       " ('masia', 0.7227804951501101),\n",
       " ('barraca', 0.6704054216869894),\n",
       " ('mansió', 0.6560298009694184),\n",
       " ('cabana', 0.652651306609716),\n",
       " ('vila', 0.6361850991600445),\n",
       " ('fortalesa', 0.632124247625034),\n",
       " ('granja', 0.6304387468090924),\n",
       " ('habitació', 0.6252301433236155),\n",
       " ('bassa', 0.6176714598467475)]"
      ]
     },
     "execution_count": 19,
     "metadata": {},
     "output_type": "execute_result"
    }
   ],
   "source": [
    "model1.most_similar('casa')"
   ]
  },
  {
   "cell_type": "code",
   "execution_count": 20,
   "id": "f2f7d06a",
   "metadata": {
    "execution": {
     "iopub.execute_input": "2023-03-08T07:53:03.384256Z",
     "iopub.status.busy": "2023-03-08T07:53:03.383775Z",
     "iopub.status.idle": "2023-03-08T07:53:15.760296Z",
     "shell.execute_reply": "2023-03-08T07:53:15.758911Z"
    },
    "papermill": {
     "duration": 12.392003,
     "end_time": "2023-03-08T07:53:15.763037",
     "exception": false,
     "start_time": "2023-03-08T07:53:03.371034",
     "status": "completed"
    },
    "tags": []
   },
   "outputs": [
    {
     "data": {
      "text/plain": [
       "[('buc', 0.670424478907233),\n",
       " ('moll', 0.6641065722338934),\n",
       " ('tanc', 0.655862803217196),\n",
       " ('corredor', 0.6552406056554092),\n",
       " ('zoo', 0.6444781640060616),\n",
       " ('balcó', 0.6317966565028333),\n",
       " ('pilar', 0.6237683825823723),\n",
       " ('proveïdor', 0.6228871008463195),\n",
       " ('repositori', 0.6187815502583963),\n",
       " ('comboi', 0.6186514027028645)]"
      ]
     },
     "execution_count": 20,
     "metadata": {},
     "output_type": "execute_result"
    }
   ],
   "source": [
    "model1.most_similar('banc')"
   ]
  },
  {
   "cell_type": "code",
   "execution_count": 21,
   "id": "0f1fa57a",
   "metadata": {
    "execution": {
     "iopub.execute_input": "2023-03-08T07:53:15.788006Z",
     "iopub.status.busy": "2023-03-08T07:53:15.787586Z",
     "iopub.status.idle": "2023-03-08T07:53:28.215515Z",
     "shell.execute_reply": "2023-03-08T07:53:28.214285Z"
    },
    "papermill": {
     "duration": 12.443632,
     "end_time": "2023-03-08T07:53:28.218247",
     "exception": false,
     "start_time": "2023-03-08T07:53:15.774615",
     "status": "completed"
    },
    "tags": []
   },
   "outputs": [
    {
     "data": {
      "text/plain": [
       "[('francès', 0.9044073668905137),\n",
       " ('anglès', 0.8977542690649529),\n",
       " ('espanyol', 0.8971587870220512),\n",
       " ('alemany', 0.8933394091887107),\n",
       " ('castellà', 0.8753904387013661),\n",
       " ('italià', 0.860145427650086),\n",
       " ('rus', 0.8584630980767858),\n",
       " ('portuguès', 0.8581308732281967),\n",
       " ('grec', 0.8405046862569099),\n",
       " ('japonès', 0.8366606356073163)]"
      ]
     },
     "execution_count": 21,
     "metadata": {},
     "output_type": "execute_result"
    }
   ],
   "source": [
    "model2.most_similar('català')"
   ]
  },
  {
   "cell_type": "code",
   "execution_count": 22,
   "id": "89716ebd",
   "metadata": {
    "execution": {
     "iopub.execute_input": "2023-03-08T07:53:28.244888Z",
     "iopub.status.busy": "2023-03-08T07:53:28.243518Z",
     "iopub.status.idle": "2023-03-08T07:53:40.668592Z",
     "shell.execute_reply": "2023-03-08T07:53:40.667217Z"
    },
    "papermill": {
     "duration": 12.441253,
     "end_time": "2023-03-08T07:53:40.671586",
     "exception": false,
     "start_time": "2023-03-08T07:53:28.230333",
     "status": "completed"
    },
    "tags": []
   },
   "outputs": [
    {
     "data": {
      "text/plain": [
       "[('Roma', 0.8512310563115476),\n",
       " ('ciutat', 0.8459281768182569),\n",
       " ('propietat', 0.8358765003548796),\n",
       " ('dona', 0.8340125656262013),\n",
       " ('Rússia', 0.8230945573975121),\n",
       " ('obra', 0.8230021052615292),\n",
       " ('mare', 0.8186887936434977),\n",
       " ('música', 0.8186223623474785),\n",
       " ('París', 0.8186149633308097),\n",
       " ('capital', 0.8138500751282594)]"
      ]
     },
     "execution_count": 22,
     "metadata": {},
     "output_type": "execute_result"
    }
   ],
   "source": [
    "model2.most_similar('casa')"
   ]
  },
  {
   "cell_type": "code",
   "execution_count": 23,
   "id": "f1ecbea1",
   "metadata": {
    "execution": {
     "iopub.execute_input": "2023-03-08T07:53:40.698262Z",
     "iopub.status.busy": "2023-03-08T07:53:40.697822Z",
     "iopub.status.idle": "2023-03-08T07:53:53.063614Z",
     "shell.execute_reply": "2023-03-08T07:53:53.062394Z"
    },
    "papermill": {
     "duration": 12.381921,
     "end_time": "2023-03-08T07:53:53.066345",
     "exception": false,
     "start_time": "2023-03-08T07:53:40.684424",
     "status": "completed"
    },
    "tags": []
   },
   "outputs": [
    {
     "data": {
      "text/plain": [
       "[('corredor', 0.9174292408547489),\n",
       " ('bloc', 0.9044860993928407),\n",
       " ('desert', 0.9006056210003588),\n",
       " ('tribunal', 0.9005192048737988),\n",
       " ('magatzem', 0.8987332491977925),\n",
       " ('volant', 0.8974297705365679),\n",
       " ('moll', 0.8952906553017266),\n",
       " ('forn', 0.894895391369246),\n",
       " ('museu', 0.8945814814867218),\n",
       " ('client', 0.8937923985323746)]"
      ]
     },
     "execution_count": 23,
     "metadata": {},
     "output_type": "execute_result"
    }
   ],
   "source": [
    "model2.most_similar('banc')"
   ]
  },
  {
   "cell_type": "markdown",
   "id": "bfd34fb7",
   "metadata": {
    "papermill": {
     "duration": 0.011689,
     "end_time": "2023-03-08T07:53:53.090050",
     "exception": false,
     "start_time": "2023-03-08T07:53:53.078361",
     "status": "completed"
    },
    "tags": []
   },
   "source": [
    "### Looking for analogies"
   ]
  },
  {
   "cell_type": "code",
   "execution_count": 24,
   "id": "ce068e7a",
   "metadata": {
    "execution": {
     "iopub.execute_input": "2023-03-08T07:53:53.116688Z",
     "iopub.status.busy": "2023-03-08T07:53:53.115918Z",
     "iopub.status.idle": "2023-03-08T07:54:04.029117Z",
     "shell.execute_reply": "2023-03-08T07:54:04.027533Z"
    },
    "papermill": {
     "duration": 10.92964,
     "end_time": "2023-03-08T07:54:04.032101",
     "exception": false,
     "start_time": "2023-03-08T07:53:53.102461",
     "status": "completed"
    },
    "tags": []
   },
   "outputs": [
    {
     "data": {
      "text/plain": [
       "[('polonès', 0.7302620427345439),\n",
       " ('rus', 0.7294077928728961),\n",
       " ('suec', 0.7001087547228407),\n",
       " ('romanès', 0.6946904401115087),\n",
       " ('alemany', 0.6920949504835143)]"
      ]
     },
     "execution_count": 24,
     "metadata": {},
     "output_type": "execute_result"
    }
   ],
   "source": [
    "model1.analogy('França', 'francès', 'Polònia')"
   ]
  },
  {
   "cell_type": "code",
   "execution_count": 25,
   "id": "1810ea02",
   "metadata": {
    "execution": {
     "iopub.execute_input": "2023-03-08T07:54:04.058939Z",
     "iopub.status.busy": "2023-03-08T07:54:04.058423Z",
     "iopub.status.idle": "2023-03-08T07:54:14.955362Z",
     "shell.execute_reply": "2023-03-08T07:54:14.954219Z"
    },
    "papermill": {
     "duration": 10.912998,
     "end_time": "2023-03-08T07:54:14.957885",
     "exception": false,
     "start_time": "2023-03-08T07:54:04.044887",
     "status": "completed"
    },
    "tags": []
   },
   "outputs": [
    {
     "data": {
      "text/plain": [
       "[('cinc', 0.7621840906492645),\n",
       " ('quatre', 0.7490343912650385),\n",
       " ('sis', 0.7413847423712532),\n",
       " ('vuit', 0.73054059664786),\n",
       " ('dotze', 0.7211573624048647)]"
      ]
     },
     "execution_count": 25,
     "metadata": {},
     "output_type": "execute_result"
    }
   ],
   "source": [
    "model1.analogy('un', 'dos', 'tres')"
   ]
  },
  {
   "cell_type": "code",
   "execution_count": 26,
   "id": "9c399ca1",
   "metadata": {
    "execution": {
     "iopub.execute_input": "2023-03-08T07:54:14.985533Z",
     "iopub.status.busy": "2023-03-08T07:54:14.984345Z",
     "iopub.status.idle": "2023-03-08T07:54:26.109286Z",
     "shell.execute_reply": "2023-03-08T07:54:26.108288Z"
    },
    "papermill": {
     "duration": 11.141792,
     "end_time": "2023-03-08T07:54:26.111906",
     "exception": false,
     "start_time": "2023-03-08T07:54:14.970114",
     "status": "completed"
    },
    "tags": []
   },
   "outputs": [
    {
     "data": {
      "text/plain": [
       "[('dijous', 0.6019801514300591),\n",
       " ('divendres', 0.5973331932611301),\n",
       " ('dissabte', 0.5374500547453094),\n",
       " ('dissabtes', 0.46155273729181684),\n",
       " ('dia', 0.45135969716670593)]"
      ]
     },
     "execution_count": 26,
     "metadata": {},
     "output_type": "execute_result"
    }
   ],
   "source": [
    "model1.analogy('dilluns', 'dimarts', 'dimecres')"
   ]
  },
  {
   "cell_type": "code",
   "execution_count": 27,
   "id": "a70fe0db",
   "metadata": {
    "execution": {
     "iopub.execute_input": "2023-03-08T07:54:26.139398Z",
     "iopub.status.busy": "2023-03-08T07:54:26.138396Z",
     "iopub.status.idle": "2023-03-08T07:54:37.216538Z",
     "shell.execute_reply": "2023-03-08T07:54:37.215639Z"
    },
    "papermill": {
     "duration": 11.094306,
     "end_time": "2023-03-08T07:54:37.218998",
     "exception": false,
     "start_time": "2023-03-08T07:54:26.124692",
     "status": "completed"
    },
    "tags": []
   },
   "outputs": [
    {
     "data": {
      "text/plain": [
       "[('polonès', 0.9190087000477082),\n",
       " ('rus', 0.9039990033813486),\n",
       " ('suec', 0.8966731891423321),\n",
       " ('romanès', 0.8924005179177729),\n",
       " ('basc', 0.8923971170800707)]"
      ]
     },
     "execution_count": 27,
     "metadata": {},
     "output_type": "execute_result"
    }
   ],
   "source": [
    "model2.analogy('França', 'francès', 'Polònia')"
   ]
  },
  {
   "cell_type": "code",
   "execution_count": 28,
   "id": "f0944431",
   "metadata": {
    "execution": {
     "iopub.execute_input": "2023-03-08T07:54:37.246644Z",
     "iopub.status.busy": "2023-03-08T07:54:37.246148Z",
     "iopub.status.idle": "2023-03-08T07:54:48.259385Z",
     "shell.execute_reply": "2023-03-08T07:54:48.258149Z"
    },
    "papermill": {
     "duration": 11.030111,
     "end_time": "2023-03-08T07:54:48.262286",
     "exception": false,
     "start_time": "2023-03-08T07:54:37.232175",
     "status": "completed"
    },
    "tags": []
   },
   "outputs": [
    {
     "data": {
      "text/plain": [
       "[('dues', 0.8936959905472144),\n",
       " ('quatre', 0.889503843418989),\n",
       " ('set', 0.8464327196388995),\n",
       " ('4', 0.8413765528566006),\n",
       " ('10', 0.8401214338331634)]"
      ]
     },
     "execution_count": 28,
     "metadata": {},
     "output_type": "execute_result"
    }
   ],
   "source": [
    "model2.analogy('un', 'dos', 'tres')"
   ]
  },
  {
   "cell_type": "code",
   "execution_count": 29,
   "id": "afbbdb0a",
   "metadata": {
    "execution": {
     "iopub.execute_input": "2023-03-08T07:54:48.291424Z",
     "iopub.status.busy": "2023-03-08T07:54:48.290273Z",
     "iopub.status.idle": "2023-03-08T07:54:59.400132Z",
     "shell.execute_reply": "2023-03-08T07:54:59.398538Z"
    },
    "papermill": {
     "duration": 11.127289,
     "end_time": "2023-03-08T07:54:59.403095",
     "exception": false,
     "start_time": "2023-03-08T07:54:48.275806",
     "status": "completed"
    },
    "tags": []
   },
   "outputs": [
    {
     "data": {
      "text/plain": [
       "[('divendres', 0.9539057830883041),\n",
       " ('dijous', 0.952255944278861),\n",
       " ('dissabte', 0.9471096614130475),\n",
       " ('dissabtes', 0.9386328357351887),\n",
       " ('diumenges', 0.932970226481075)]"
      ]
     },
     "execution_count": 29,
     "metadata": {},
     "output_type": "execute_result"
    }
   ],
   "source": [
    "model2.analogy('dilluns', 'dimarts', 'dimecres')"
   ]
  },
  {
   "cell_type": "markdown",
   "id": "73886316",
   "metadata": {
    "papermill": {
     "duration": 0.013159,
     "end_time": "2023-03-08T07:54:59.429553",
     "exception": false,
     "start_time": "2023-03-08T07:54:59.416394",
     "status": "completed"
    },
    "tags": []
   },
   "source": [
    "### Visualization of an analogy"
   ]
  },
  {
   "cell_type": "code",
   "execution_count": 30,
   "id": "2d8c98a2",
   "metadata": {
    "execution": {
     "iopub.execute_input": "2023-03-08T07:54:59.458599Z",
     "iopub.status.busy": "2023-03-08T07:54:59.457586Z",
     "iopub.status.idle": "2023-03-08T07:54:59.471293Z",
     "shell.execute_reply": "2023-03-08T07:54:59.469511Z"
    },
    "papermill": {
     "duration": 0.032945,
     "end_time": "2023-03-08T07:54:59.475404",
     "exception": false,
     "start_time": "2023-03-08T07:54:59.442459",
     "status": "completed"
    },
    "tags": []
   },
   "outputs": [],
   "source": [
    "analogies_pca = []\n",
    "analogies_pca.append(model1.vectors[model1.vocabulary.get_index('dos')])\n",
    "analogies_pca.append(model1.vectors[model1.vocabulary.get_index('2')])\n",
    "analogies_pca.append(model1.vectors[model1.vocabulary.get_index('tres')])\n",
    "analogies_pca.append(model1.vectors[model1.vocabulary.get_index('3')])\n",
    "analogies_pca.append(model1.vectors[model1.vocabulary.get_index('quatre')])\n",
    "analogies_pca.append(model1.vectors[model1.vocabulary.get_index('4')])\n",
    "analogies_pca.append(model1.vectors[model1.vocabulary.get_index('cinc')])\n",
    "analogies_pca.append(model1.vectors[model1.vocabulary.get_index('5')])\n",
    "words = ['dos','2','tres','3','quatre','4','cinc','5']"
   ]
  },
  {
   "cell_type": "code",
   "execution_count": 31,
   "id": "170581e6",
   "metadata": {
    "execution": {
     "iopub.execute_input": "2023-03-08T07:54:59.513528Z",
     "iopub.status.busy": "2023-03-08T07:54:59.512869Z",
     "iopub.status.idle": "2023-03-08T07:54:59.542066Z",
     "shell.execute_reply": "2023-03-08T07:54:59.540561Z"
    },
    "papermill": {
     "duration": 0.053719,
     "end_time": "2023-03-08T07:54:59.545120",
     "exception": false,
     "start_time": "2023-03-08T07:54:59.491401",
     "status": "completed"
    },
    "tags": []
   },
   "outputs": [],
   "source": [
    "pca = PCA(n_components=2)\n",
    "word_vectors = pca.fit_transform(analogies_pca)"
   ]
  },
  {
   "cell_type": "code",
   "execution_count": 32,
   "id": "b8ce824a",
   "metadata": {
    "execution": {
     "iopub.execute_input": "2023-03-08T07:54:59.578903Z",
     "iopub.status.busy": "2023-03-08T07:54:59.577575Z",
     "iopub.status.idle": "2023-03-08T07:54:59.911756Z",
     "shell.execute_reply": "2023-03-08T07:54:59.910670Z"
    },
    "papermill": {
     "duration": 0.351184,
     "end_time": "2023-03-08T07:54:59.914314",
     "exception": false,
     "start_time": "2023-03-08T07:54:59.563130",
     "status": "completed"
    },
    "tags": []
   },
   "outputs": [
    {
     "data": {
      "image/png": "[encoded data removed]",
      "text/plain": [
       "<Figure size 936x504 with 1 Axes>"
      ]
     },
     "metadata": {
      "needs_background": "light"
     },
     "output_type": "display_data"
    }
   ],
   "source": [
    "plt.figure(figsize=(13,7))\n",
    "plt.scatter(word_vectors[:,0],word_vectors[:,1],linewidths=10,color='yellow')\n",
    "plt.xlabel(\"PC1\",size=15)\n",
    "plt.ylabel(\"PC2\",size=15)\n",
    "plt.title(\"Word Analogies Representations in 2D\",size=20)\n",
    "for i, word in enumerate(words):\n",
    "    plt.annotate(word,xy=(word_vectors[i,0],word_vectors[i,1]))"
   ]
  },
  {
   "cell_type": "markdown",
   "id": "642f1e65",
   "metadata": {
    "papermill": {
     "duration": 0.014134,
     "end_time": "2023-03-08T07:54:59.942063",
     "exception": false,
     "start_time": "2023-03-08T07:54:59.927929",
     "status": "completed"
    },
    "tags": []
   },
   "source": [
    "### Visualization of words cluster\n",
    "\n",
    "We have selected the content of the Wikipedia page that explains the fable of *The Three Little Pigs* with the aim of just representing in 2D the words that are present in this fragment."
   ]
  },
  {
   "cell_type": "code",
   "execution_count": 33,
   "id": "61ab1615",
   "metadata": {
    "execution": {
     "iopub.execute_input": "2023-03-08T07:54:59.972252Z",
     "iopub.status.busy": "2023-03-08T07:54:59.971468Z",
     "iopub.status.idle": "2023-03-08T07:54:59.990296Z",
     "shell.execute_reply": "2023-03-08T07:54:59.989193Z"
    },
    "papermill": {
     "duration": 0.037448,
     "end_time": "2023-03-08T07:54:59.993074",
     "exception": false,
     "start_time": "2023-03-08T07:54:59.955626",
     "status": "completed"
    },
    "tags": []
   },
   "outputs": [],
   "source": [
    "# Read the text and do the preprocess\n",
    "remove_punctuation(f'../input/example/text.txt', f'../text_correct.txt')"
   ]
  },
  {
   "cell_type": "code",
   "execution_count": 34,
   "id": "11995311",
   "metadata": {
    "execution": {
     "iopub.execute_input": "2023-03-08T07:55:00.025674Z",
     "iopub.status.busy": "2023-03-08T07:55:00.024778Z",
     "iopub.status.idle": "2023-03-08T07:55:00.032448Z",
     "shell.execute_reply": "2023-03-08T07:55:00.031416Z"
    },
    "papermill": {
     "duration": 0.02654,
     "end_time": "2023-03-08T07:55:00.035387",
     "exception": false,
     "start_time": "2023-03-08T07:55:00.008847",
     "status": "completed"
    },
    "tags": []
   },
   "outputs": [],
   "source": [
    "# Obtain the list of words and its corresponding embeddings\n",
    "word_embedding = []\n",
    "words=[]\n",
    "with open(f'../text_correct.txt', 'r', encoding='utf-8') as inpf:\n",
    "    for line in inpf:\n",
    "        line = line.split()\n",
    "        for word in line:\n",
    "            try:\n",
    "                words.append(word)\n",
    "                word_embedding.append(model1.vectors[model1.vocabulary.get_index(word)])\n",
    "            except:\n",
    "                pass"
   ]
  },
  {
   "cell_type": "code",
   "execution_count": 35,
   "id": "1212a0ad",
   "metadata": {
    "execution": {
     "iopub.execute_input": "2023-03-08T07:55:00.066781Z",
     "iopub.status.busy": "2023-03-08T07:55:00.065667Z",
     "iopub.status.idle": "2023-03-08T07:55:01.027495Z",
     "shell.execute_reply": "2023-03-08T07:55:01.026295Z"
    },
    "papermill": {
     "duration": 0.980966,
     "end_time": "2023-03-08T07:55:01.030941",
     "exception": false,
     "start_time": "2023-03-08T07:55:00.049975",
     "status": "completed"
    },
    "tags": []
   },
   "outputs": [],
   "source": [
    "# Do the PCA decomposition\n",
    "pca = PCA(n_components=2)\n",
    "word_vectors = pca.fit_transform(word_embedding)\n",
    "\n",
    "# Do the clustering\n",
    "NUM_CLUSTERS=4\n",
    "kclusterer = KMeansClusterer(NUM_CLUSTERS, distance=nltk.cluster.util.cosine_distance, repeats=25, avoid_empty_clusters=True)\n",
    "assigned_clusters = kclusterer.cluster(word_embedding, assign_clusters=True)"
   ]
  },
  {
   "cell_type": "code",
   "execution_count": 36,
   "id": "adc0eb86",
   "metadata": {
    "execution": {
     "iopub.execute_input": "2023-03-08T07:55:01.060511Z",
     "iopub.status.busy": "2023-03-08T07:55:01.060048Z",
     "iopub.status.idle": "2023-03-08T07:55:02.484394Z",
     "shell.execute_reply": "2023-03-08T07:55:02.483044Z"
    },
    "papermill": {
     "duration": 1.443233,
     "end_time": "2023-03-08T07:55:02.487773",
     "exception": false,
     "start_time": "2023-03-08T07:55:01.044540",
     "status": "completed"
    },
    "tags": []
   },
   "outputs": [
    {
     "data": {
      "image/png": "[encoded data removed]",
      "text/plain": [
       "<Figure size 936x504 with 1 Axes>"
      ]
     },
     "metadata": {
      "needs_background": "light"
     },
     "output_type": "display_data"
    }
   ],
   "source": [
    "# Do the visualization\n",
    "plt.figure(figsize=(13,7))\n",
    "plt.scatter(word_vectors[:,0],word_vectors[:,1],linewidths=10,c=assigned_clusters)\n",
    "plt.xlabel(\"PC1\",size=15)\n",
    "plt.ylabel(\"PC2\",size=15)\n",
    "plt.title(\"Word Embedding Representations in 2D\",size=20)\n",
    "for i, word in enumerate(words):\n",
    "    plt.annotate(word,xy=(word_vectors[i,0]+0.1,word_vectors[i,1]+0.1))\n",
    "plt.savefig(f'../working/visualization.png')"
   ]
  },
  {
   "cell_type": "code",
   "execution_count": null,
   "id": "0f0144da",
   "metadata": {
    "papermill": {
     "duration": 0.017533,
     "end_time": "2023-03-08T07:55:02.521511",
     "exception": false,
     "start_time": "2023-03-08T07:55:02.503978",
     "status": "completed"
    },
    "tags": []
   },
   "outputs": [],
   "source": []
  }
 ],
 "metadata": {
  "kernelspec": {
   "display_name": "Python 3",
   "language": "python",
   "name": "python3"
  },
  "language_info": {
   "codemirror_mode": {
    "name": "ipython",
    "version": 3
   },
   "file_extension": ".py",
   "mimetype": "text/x-python",
   "name": "python",
   "nbconvert_exporter": "python",
   "pygments_lexer": "ipython3",
   "version": "3.7.12"
  },
  "papermill": {
   "default_parameters": {},
   "duration": 165.610457,
   "end_time": "2023-03-08T07:55:03.765504",
   "environment_variables": {},
   "exception": null,
   "input_path": "__notebook__.ipynb",
   "output_path": "__notebook__.ipynb",
   "parameters": {},
   "start_time": "2023-03-08T07:52:18.155047",
   "version": "2.3.4"
  }
 },
 "nbformat": 4,
 "nbformat_minor": 5
}
